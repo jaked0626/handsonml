{
 "cells": [
  {
   "cell_type": "markdown",
   "metadata": {},
   "source": [
    "<center> <h1>Hands-on Machine Learning with Scikit-Learn, Keras & TensorFlow </h1> </center>   \n",
    "\n",
    "<center><hr> <h2>  Chapter 1  </h2> </center>\n",
    "\n"
   ]
  },
  {
   "cell_type": "markdown",
   "metadata": {},
   "source": [
    "## What is Machine Learning?  \n",
    "\n",
    "* field of study that gives computers the ability to learn without being explicitly programmed (Arthur Samuel, 1959)  \n",
    "* A computer program is said to learn from experience E with respect to some task T and some performance measure P, if its performance on T, as measured by P, improves with experience E (tom Mitchell, 1997)  \n",
    "\n",
    "## Why Use Machine Learning?  \n",
    "* ![](images/1ml-approach.png)  \n",
    "* ![](images/2ml-approach-automated.png)  \n",
    "* Automatic (can adapt to new data too)\n",
    "* Able to read and analyze big data. "
   ]
  },
  {
   "cell_type": "markdown",
   "metadata": {},
   "source": [
    "## Types of ML Systems  \n",
    "\n",
    "### Supervised Learning  \n",
    "* training data has *labels* (desired solutions)  \n",
    "* *Classification*\n",
    "* *Prediction*\n",
    "* Examples of methods: \n",
    "  * k-Nearest Neighbors  \n",
    "  * Linear Regression  \n",
    "  * Logistic Regression  \n",
    "  * SVMs  \n",
    "  * Decision Trees and Random FOrests  \n",
    "  * Neural Networks  \n",
    "\n",
    "### Unsupervised Learning  \n",
    "* traning data has *no labels*  \n",
    "* Examples:  \n",
    "  * Clustering (Group similar datapoints together)  \n",
    "    * K-Means  \n",
    "    * DBSCAN  \n",
    "    * Hierarchical Cluster Analysis  \n",
    "  * Anomaly detection and novelty detection (Finds datapoints that are unlike the training data)  \n",
    "    * One-class SVM   \n",
    "    * Isolation Forest  \n",
    "  * Visualization and dimensionality reduction (Shows general structures and patterns of data)  \n",
    "    * Principal Component Analysis  \n",
    "    * Kernel PCA  \n",
    "    * Locally-Linear Embedding (LLE)  \n",
    "    * t-distributed Stochastic Neighbor Embedding (t-SNE)  \n",
    "  * Association rule learning (finds relationships between attributes)  \n",
    "    * Apriori  \n",
    "    * Eclat  \n",
    "\n",
    "### Semisupervised learning  \n",
    "* training data has *some labels*  \n",
    "\n",
    "### Reinforcement Learning  \n",
    "* Markov-decision process (agent, state, action, rewards)  \n",
    "* Learns from several simulations. Policy function iteration (need info on environment), Q-learning (doesn't need info on environment)  "
   ]
  },
  {
   "cell_type": "markdown",
   "metadata": {},
   "source": [
    "## Batch and Online Learning  \n",
    "\n",
    "### Batch Learning  \n",
    "\n",
    "* Model must be trained on ALL data  \n",
    "* Cannot incorporate new data, must retrain model on all data  \n",
    "* Requires significant memory, disk space, time for computation  \n",
    "  \n",
    "### Online Learning  \n",
    "* System is trained incrementally by feeding individual datapoints or *mini-batches*. \n",
    "![](images/online.png)  \n",
    "* Big data can be trained by storing in remote server, breaking into pieces and training one by one (or train on cloud)  \n",
    "![](images/4online-outcore.png)\n",
    "* *learning rate* = specifies how fast model forgets old data and adapts to new data  \n",
    "* If model is fed large amounts of bad data, performance declines, so must be weary! \n",
    "  "
   ]
  },
  {
   "cell_type": "markdown",
   "metadata": {},
   "source": [
    "## Generalizing: Instance-Based Versus Model-Based Learning  \n",
    "\n",
    "Models must generalize to new data that it wasn't trained on. \n",
    "\n",
    "### Instance-based learning  \n",
    "\n",
    "* Compute *similarity* of new datapoints with training data and ouputs result.  \n",
    "\n",
    "### Model-based learning  \n",
    "* Estimates a *model* (or function that inputs independent variables and outputs dependent variables).  "
   ]
  },
  {
   "cell_type": "code",
   "execution_count": 2,
   "metadata": {},
   "outputs": [
    {
     "name": "stdout",
     "output_type": "stream",
     "text": [
      "Downloading oecd_bli_2015.csv\n",
      "Downloading gdp_per_capita.csv\n"
     ]
    }
   ],
   "source": [
    "# Requirements:\n",
    "import sys\n",
    "assert sys.version_info >= (3, 5)\n",
    "import sklearn\n",
    "assert sklearn.__version__ >= \"0.20\"\n",
    "import os\n",
    "import urllib.request\n",
    "\n",
    "# configure matplotlib settings\n",
    "%matplotlib inline\n",
    "import matplotlib as mpl\n",
    "mpl.rc('axes', labelsize=14)\n",
    "mpl.rc('xtick', labelsize=12)\n",
    "mpl.rc('ytick', labelsize=12)\n",
    "\n",
    "# download data \n",
    "datapath = os.path.join(\"datasets\", \"lifesat\", \"\")\n",
    "DOWNLOAD_ROOT = \"https://raw.githubusercontent.com/ageron/handson-ml2/master/\"\n",
    "os.makedirs(datapath, exist_ok=True)\n",
    "for filename in (\"oecd_bli_2015.csv\", \"gdp_per_capita.csv\"):\n",
    "    print(\"Downloading\", filename)\n",
    "    url = DOWNLOAD_ROOT + \"datasets/lifesat/\" + filename\n",
    "    urllib.request.urlretrieve(url, datapath + filename)\n",
    "\n",
    "# aux functions \n",
    "def prepare_country_stats(oecd_bli, gdp_per_capita):\n",
    "    oecd_bli = oecd_bli[oecd_bli[\"INEQUALITY\"]==\"TOT\"]\n",
    "    oecd_bli = oecd_bli.pivot(index=\"Country\", columns=\"Indicator\", values=\"Value\")\n",
    "    gdp_per_capita.rename(columns={\"2015\": \"GDP per capita\"}, inplace=True)\n",
    "    gdp_per_capita.set_index(\"Country\", inplace=True)\n",
    "    full_country_stats = pd.merge(left=oecd_bli, right=gdp_per_capita,\n",
    "                                  left_index=True, right_index=True)\n",
    "    full_country_stats.sort_values(by=\"GDP per capita\", inplace=True)\n",
    "    remove_indices = [0, 1, 6, 8, 33, 34, 35]\n",
    "    keep_indices = list(set(range(36)) - set(remove_indices))\n",
    "    return full_country_stats[[\"GDP per capita\", 'Life satisfaction']].iloc[keep_indices]\n",
    "\n"
   ]
  },
  {
   "cell_type": "code",
   "execution_count": 15,
   "metadata": {},
   "outputs": [
    {
     "data": {
      "image/png": "[encoded data removed]",
      "text/plain": [
       "<Figure size 432x288 with 1 Axes>"
      ]
     },
     "metadata": {
      "needs_background": "light"
     },
     "output_type": "display_data"
    },
    {
     "name": "stdout",
     "output_type": "stream",
     "text": [
      "Now we predict Cyprus' life satisfaction\n",
      "\tlinear regression predicts: [[5.96242338]]\n",
      "\tK-neighbors regression predicts: [[5.76666667]]\n"
     ]
    }
   ],
   "source": [
    "import matplotlib.pyplot as plt\n",
    "import numpy as np\n",
    "import pandas as pd\n",
    "import sklearn.linear_model\n",
    "import sklearn.neighbors\n",
    "# read the data\n",
    "oecd_bli = pd.read_csv(\"datasets/lifesat/oecd_bli_2015.csv\", thousands=',')\n",
    "gdp_per_capita = pd.read_csv(\"datasets/lifesat/gdp_per_capita.csv\",thousands=',',delimiter='\\t',\n",
    "                             encoding='latin1', na_values=\"n/a\")\n",
    "# Prepare the data\n",
    "country_stats = prepare_country_stats(oecd_bli, gdp_per_capita)\n",
    "X = np.c_[country_stats[\"GDP per capita\"]]\n",
    "y = np.c_[country_stats[\"Life satisfaction\"]]\n",
    "\n",
    "# Visualize the data\n",
    "country_stats.plot(kind='scatter', x=\"GDP per capita\", y='Life satisfaction')\n",
    "#plt.show()\n",
    "\n",
    "# Select a linear model and kneighbors model\n",
    "lin_model = sklearn.linear_model.LinearRegression()\n",
    "kneigh_model = sklearn.neighbors.KNeighborsRegressor(n_neighbors=3)\n",
    "\n",
    "\n",
    "# Train the models\n",
    "lin_model.fit(X, y)\n",
    "b0 = lin_model.intercept_\n",
    "b1 = lin_model.coef_\n",
    "\n",
    "kneigh_model.fit(X, y)\n",
    "\n",
    "# plotting models\n",
    "# plot linear model\n",
    "plt.plot(X, b0 + b1 * X, color='r', label='linear regressor')\n",
    "\n",
    "# plot k-neighbors model\n",
    "T = np.linspace(10000, 60000, 250000)[:, np.newaxis] # increase x-axis to smoothen function\n",
    "y_ = kneigh_model.predict(T)\n",
    "plt.plot(T, y_, color='y', label='kneighbors regressor')\n",
    "plt.legend()\n",
    "plt.show()\n",
    "\n",
    "# Make a prediction for Cyprus\n",
    "X_new = [[22587]]  # Cyprus' GDP per capita\n",
    "print(\"Now we predict Cyprus' life satisfaction\")\n",
    "print(f'\\tlinear regression predicts: {lin_model.predict(X_new)}') # outputs [[ 5.96242338]]\n",
    "print(f'\\tK-neighbors regression predicts: {kneigh_model.predict(X_new)}') # outputs [[ 5.76666667]]\n"
   ]
  },
  {
   "cell_type": "markdown",
   "metadata": {},
   "source": [
    "In the above example, linear regression is an example of model-based learning. If we use an instance-based learning algorithm, like K-neighbors Regressor, we get a different prediction. *k-nearest neighbors* takes a new datapoint and finds the *k* closest datapoints in the training data and outputs their average. For example, given Cyprus' GDP per capita (\\$22,587), you will find Slovenia (\\$20,732), Portugal (\\$19,121) and Spain (\\$25,864) with life satisfactions of 5.7, 5.1 and 6.5, respectively. Using a $k=3$ *k-nearest neighbors* regression, we average these three values to get 5.77, which is pretty close to the model-based prediction. "
   ]
  },
  {
   "cell_type": "markdown",
   "metadata": {},
   "source": [
    "## Main Challenges of Machine Learning  \n",
    "\n"
   ]
  }
 ],
 "metadata": {
  "interpreter": {
   "hash": "b0fa6594d8f4cbf19f97940f81e996739fb7646882a419484c72d19e05852a7e"
  },
  "kernelspec": {
   "display_name": "Python 3.9.12 64-bit",
   "language": "python",
   "name": "python3"
  },
  "language_info": {
   "codemirror_mode": {
    "name": "ipython",
    "version": 3
   },
   "file_extension": ".py",
   "mimetype": "text/x-python",
   "name": "python",
   "nbconvert_exporter": "python",
   "pygments_lexer": "ipython3",
   "version": "3.9.12"
  },
  "orig_nbformat": 4
 },
 "nbformat": 4,
 "nbformat_minor": 2
}
